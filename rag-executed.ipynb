{
 "cells": [
  {
   "cell_type": "markdown",
   "id": "af03183e",
   "metadata": {},
   "source": [
    "# *Retrieval Augmented Generation* con las conferencias mañaneras"
   ]
  },
  {
   "cell_type": "markdown",
   "id": "7eda8418",
   "metadata": {},
   "source": [
    "## Una pregunta muy específica\n",
    "\n",
    "Antes de comenzar, quiero mostrarles cuál es la utilidad de utilizar una técnica como esta, comenzaré haciéndole una pregunta muy específica a un modelo genérico:"
   ]
  },
  {
   "cell_type": "code",
   "execution_count": 57,
   "id": "1982320c",
   "metadata": {},
   "outputs": [],
   "source": [
    "from openai import OpenAI\n",
    "\n",
    "client = OpenAI()\n",
    "\n",
    "def query_llm(prompt, model=\"gpt-3.5-turbo\"):\n",
    "    completions = client.chat.completions.create(\n",
    "\n",
    "    model=\"gpt-3.5-turbo\",\n",
    "        messages=[\n",
    "            {\"role\": \"user\", \"content\": prompt},\n",
    "        ],\n",
    "        temperature=0.0,\n",
    "    )\n",
    "\n",
    "    return completions.choices[0].message.content"
   ]
  },
  {
   "cell_type": "code",
   "execution_count": 58,
   "id": "112956c1",
   "metadata": {},
   "outputs": [
    {
     "name": "stdout",
     "output_type": "stream",
     "text": [
      "Ser aspiracionista significa tener la convicción de que es posible lograr un cambio positivo en nuestro país y en la vida de los mexicanos. Ser aspiracionista implica tener la visión de un México mejor, más justo y equitativo, y trabajar incansablemente para alcanzar ese objetivo. Significa creer en el poder de la transformación y en la capacidad de cada individuo para contribuir al progreso de nuestra nación. Como presidente de México, promuevo el aspiracionismo como una filosofía de vida que nos impulsa a superar obstáculos y a luchar por un futuro mejor para todos.\n"
     ]
    }
   ],
   "source": [
    "pregunta = \"¿Qué significa ser aspiracionista?\"\n",
    "\n",
    "prompt = \"\"\"Eres Andrés Manuel Lopez Obrador, presidente de México.\n",
    "Responde a la pregunta como si la respuesta la estuviera dando Andrés Manuel Lopez Obrador.\n",
    "\n",
    "Pregunta: {question}\n",
    "\"\"\"\n",
    "final_prompt = prompt.format(question=pregunta)\n",
    "\n",
    "respuesta = query_llm(final_prompt)\n",
    "print(respuesta)"
   ]
  },
  {
   "cell_type": "markdown",
   "id": "9263c33f",
   "metadata": {},
   "source": [
    "## Descargando los datos de mi otro repositorio"
   ]
  },
  {
   "cell_type": "code",
   "execution_count": 1,
   "id": "48f85df5",
   "metadata": {},
   "outputs": [],
   "source": [
    "import tempfile\n",
    "from pathlib import Path\n",
    "import subprocess\n",
    "\n",
    "temporary_directory = tempfile.mkdtemp()"
   ]
  },
  {
   "cell_type": "code",
   "execution_count": 2,
   "id": "b35efb23",
   "metadata": {},
   "outputs": [
    {
     "name": "stderr",
     "output_type": "stream",
     "text": [
      "Note: switching to '4e4283ee9fd3b07eee7574cf2b6200177770a35f'.\n",
      "\n",
      "You are in 'detached HEAD' state. You can look around, make experimental\n",
      "changes and commit them, and you can discard any commits you make in this\n",
      "state without impacting any branches by switching back to a branch.\n",
      "\n",
      "If you want to create a new branch to retain commits you create, you may\n",
      "do so (now or later) by using -c with the switch command. Example:\n",
      "\n",
      "  git switch -c <new-branch-name>\n",
      "\n",
      "Or undo this operation with:\n",
      "\n",
      "  git switch -\n",
      "\n",
      "Turn off this advice by setting config variable advice.detachedHead to false\n",
      "\n"
     ]
    },
    {
     "data": {
      "text/plain": [
       "CompletedProcess(args=['git', 'clone', '-q', '--single-branch', '--branch', 'embeddings-tutorial', '--depth', '1', 'https://github.com/fferegrino/mananeras.git', '/var/folders/w_/k5v1rsvd51d7wh8y05zwrtsw0000gn/T/tmptq0222kw/mananeras'], returncode=0)"
      ]
     },
     "execution_count": 2,
     "metadata": {},
     "output_type": "execute_result"
    }
   ],
   "source": [
    "\n",
    "conferencias_repo_url = \"https://github.com/fferegrino/mananeras.git\"\n",
    "conferencias_repo_dir = Path(temporary_directory, \"mananeras\")\n",
    "\n",
    "subprocess.run([\"git\", \"clone\", \"-q\", \"--single-branch\",\"--branch\", 'cf-llm-1', \"--depth\", \"1\", conferencias_repo_url, str(conferencias_repo_dir)])"
   ]
  },
  {
   "cell_type": "markdown",
   "id": "3407b029",
   "metadata": {},
   "source": [
    "## Cargando los documentos\n",
    "\n",
    "Todo sistema *RAG* comienza cargando un conjunto inicial de documentos. "
   ]
  },
  {
   "cell_type": "code",
   "execution_count": 7,
   "id": "7601dbde-fc7c-4b5f-979d-bd5744a55cef",
   "metadata": {},
   "outputs": [],
   "source": [
    "import mananeras\n",
    "\n",
    "conferencias = mananeras.lee_todas(conferencias_repo_dir)"
   ]
  },
  {
   "cell_type": "code",
   "execution_count": 8,
   "id": "692580cf-ed9c-4669-a530-38b02244c045",
   "metadata": {},
   "outputs": [
    {
     "data": {
      "text/plain": [
       "2674"
      ]
     },
     "execution_count": 8,
     "metadata": {},
     "output_type": "execute_result"
    }
   ],
   "source": [
    "len(conferencias)"
   ]
  },
  {
   "cell_type": "code",
   "execution_count": 9,
   "id": "79452b34",
   "metadata": {},
   "outputs": [
    {
     "name": "stdout",
     "output_type": "stream",
     "text": [
      "Versión estenográfica. Conferencia de prensa del presidente Andrés Manuel López Obrador del 14 de noviembre de 2022\n",
      "2022-11-14\n",
      "Participacion(hablante='PRESIDENTE ANDRÉS MANUEL LÓPEZ OBRADOR', dialogos=['Muy buenos días. Ánimo.', 'Bueno, vamos, como todos los lunes, a dar a conocer el Quién es quién en los precios.', 'Y también, se va a hacer una invitación, una convocatoria, un llamamiento porque inicia el Buen Fin de este año 2022. Va a intervenir Ricardo Sheffield y también va a intervenir José Héctor Tejada Shaar, que es el presidente de la Concanaco, y la secretaria de Economía, Raquel Buenrostro; nos acompaña también Andrea Hernández Xoxotla, es administradora general de Servicios al Contribuyente, es el SAT.', 'Terminando toda esta exposición, abrimos para preguntas y respuestas. No hay muchos temas, no va a haber nota, entonces vamos a terminar pronto.', 'Bueno, vamos a que Ricardo nos informe.'])\n"
     ]
    }
   ],
   "source": [
    "print(conferencias[1].titulo)\n",
    "print(conferencias[1].fecha)\n",
    "print(conferencias[1].participaciones[0])"
   ]
  },
  {
   "cell_type": "markdown",
   "id": "4eed26c8",
   "metadata": {},
   "source": [
    "## Filtrar solo las participaciones del presidente"
   ]
  },
  {
   "cell_type": "code",
   "execution_count": 10,
   "id": "78287a3a",
   "metadata": {},
   "outputs": [],
   "source": [
    "dialogos_presidente = []\n",
    "\n",
    "for conferencia in conferencias:\n",
    "    dialogos_conferencia = []\n",
    "    for participacion in conferencia.participaciones:\n",
    "        hablante = participacion.hablante.lower()\n",
    "        dialogos_participacion = []\n",
    "        if 'andrés manuel' in hablante or 'andrésmanuel' in hablante:\n",
    "            for dialogo in participacion.dialogos:\n",
    "                dialogos_participacion.append(dialogo)\n",
    "        if len(dialogos_participacion) > 0:\n",
    "            dialogos_conferencia.append(\"\\n\".join(dialogos_participacion))\n",
    "    if len(dialogos_conferencia) > 0:\n",
    "        conferencia = {\n",
    "            \"title\": conferencia.titulo,\n",
    "            \"document\": \"\\n\".join(dialogos_conferencia)\n",
    "        }\n",
    "        dialogos_presidente.append(conferencia)"
   ]
  },
  {
   "cell_type": "code",
   "execution_count": 11,
   "id": "728201ca",
   "metadata": {},
   "outputs": [
    {
     "data": {
      "text/plain": [
       "1985"
      ]
     },
     "execution_count": 11,
     "metadata": {},
     "output_type": "execute_result"
    }
   ],
   "source": [
    "len(dialogos_presidente)"
   ]
  },
  {
   "cell_type": "code",
   "execution_count": 12,
   "id": "f3975b38",
   "metadata": {},
   "outputs": [
    {
     "name": "stdout",
     "output_type": "stream",
     "text": [
      "Muy buenos días. Ánimo, ánimo.\n",
      "Bueno, pues vamos a la sección de 'Quién es quién en las mentiras de la semana', hay bastante material, y luego abrimos para preguntas y respuestas, de modo que le damos la palabra a Elizabeth García Vilchis.\n",
      "Muchísimo gusto.\n",
      "Que la pasen muy bien.\n",
      "Va a ser sin lista, pero quedamos en Ramón Flores primero y luego Carlos Guzmán, y ya después nos vamos, dos mujeres, tú y tú, dos.\n",
      "Sí, que los atienda la consejera jurídica, María Estela Ríos, hoy mismo, si se ponen de \n"
     ]
    }
   ],
   "source": [
    "print(dialogos_presidente[10]['document'][:500])"
   ]
  },
  {
   "cell_type": "markdown",
   "id": "bc1cb2fa",
   "metadata": {},
   "source": [
    "## Divide documento en partes (*chunks*)\n",
    "\n",
    "Si estás trabajando con documentos grandes, es importarte dividirlo en partes, que vamos a llamar *chunks*.\n",
    "\n",
    "Esto cumple dos funciones:\n",
    "\n",
    " * Mejorar la relevancia semántica de nuestros embeddings: un documento muy grande puede cubrir demasiados temas, mientras que uno pequeño puede estar más enfocado en un solo tópico\n",
    " * Facilitar la tarea del modelo de lenuaje generativo – *chunks* más pequeños hacen que la ventana de contexto sea más pequeña\n",
    "\n",
    "El proceso de división tiene varios parámetros: el tamaño del *chunk* y el tamaño de traslape entre *chunks*.\n",
    "\n",
    "Existen diversas técnicas de división de documentos, algunas más complejas que otras, la función que estoy usando debajo es una de las más fáciles pero menos recomendables."
   ]
  },
  {
   "cell_type": "code",
   "execution_count": 13,
   "id": "9660f1e7-c5f2-4422-b5c3-54dbc75cc027",
   "metadata": {},
   "outputs": [],
   "source": [
    "def chunk_document_content(document_content, max_size=300, overlap=10):\n",
    "    tokens = document_content.split()\n",
    "    chunks = []\n",
    "    token_count = len(tokens)\n",
    "    i = 0\n",
    "    while i < token_count:\n",
    "        chunks.append(\" \".join(tokens[i:i+max_size]))\n",
    "        i += max_size - overlap\n",
    "    return chunks"
   ]
  },
  {
   "cell_type": "code",
   "execution_count": 14,
   "id": "1b8a4a67",
   "metadata": {},
   "outputs": [
    {
     "name": "stdout",
     "output_type": "stream",
     "text": [
      "Chunk 0: Nosotros elegimos ir a la luna. Elegimos ir a la luna. Elegimos ir a la luna en esta década y\n",
      "\n",
      "Chunk 1: luna en esta década y hacer otras cosas no porque sean fáciles, sino porque son difíciles. Porque esa meta servirá\n",
      "\n",
      "Chunk 2: difíciles. Porque esa meta servirá para organizar y medir lo mejor de nuestras energías y habilidades, porque ese desafío es\n",
      "\n",
      "Chunk 3: habilidades, porque ese desafío es uno que estamos dispuestos a aceptar.\n",
      "\n"
     ]
    }
   ],
   "source": [
    "speech = \"Nosotros elegimos ir a la luna. Elegimos ir a la luna. Elegimos ir a la luna en esta década y hacer otras cosas no porque sean fáciles, sino porque son difíciles. Porque esa meta servirá para organizar y medir lo mejor de nuestras energías y habilidades, porque ese desafío es uno que estamos dispuestos a aceptar.\"\n",
    "\n",
    "chunks = chunk_document_content(speech, max_size=20, overlap=5)\n",
    "for idx, chunk in enumerate(chunks):\n",
    "    print(f\"Chunk {idx}: {chunk}\\n\")"
   ]
  },
  {
   "cell_type": "markdown",
   "id": "c0142cda",
   "metadata": {},
   "source": [
    "## Dividiendo las conferencias mientras mantenemos la referencia a la fuente original"
   ]
  },
  {
   "cell_type": "code",
   "execution_count": 15,
   "id": "75373d09-7651-4c8e-a398-86adfbedd40e",
   "metadata": {},
   "outputs": [],
   "source": [
    "chunked_documents = []\n",
    "chunk_unique_id = 0\n",
    "for doc_id, document in enumerate(dialogos_presidente):\n",
    "    chunks = chunk_document_content(document[\"document\"])\n",
    "    for chunk_id, chunk in enumerate(chunks):\n",
    "        chunked_documents.append({\n",
    "            \"id\": chunk_unique_id,\n",
    "            \"document_id\": doc_id,\n",
    "            \"text\": chunk\n",
    "        })\n",
    "        chunk_unique_id += 1"
   ]
  },
  {
   "cell_type": "code",
   "execution_count": 16,
   "id": "04b56002-4ca1-4a90-a4e8-903ef8326bac",
   "metadata": {},
   "outputs": [
    {
     "name": "stdout",
     "output_type": "stream",
     "text": [
      "29174\n"
     ]
    },
    {
     "data": {
      "text/plain": [
       "{'id': 0,\n",
       " 'document_id': 0,\n",
       " 'text': 'Muy buenos días. Ánimo. Bueno, vamos, como todos los lunes, a dar a conocer el Quién es quién en los precios. Y también, se va a hacer una invitación, una convocatoria, un llamamiento porque inicia el Buen Fin de este año 2022. Va a intervenir Ricardo Sheffield y también va a intervenir José Héctor Tejada Shaar, que es el presidente de la Concanaco, y la secretaria de Economía, Raquel Buenrostro; nos acompaña también Andrea Hernández Xoxotla, es administradora general de Servicios al Contribuyente, es el SAT. Terminando toda esta exposición, abrimos para preguntas y respuestas. No hay muchos temas, no va a haber nota, entonces vamos a terminar pronto. Bueno, vamos a que Ricardo nos informe. Muchas gracias. Adelante. Pues muy bien. Hay que aprovechar esta oportunidad del Buen Fin, es muy buena iniciativa. Y estoy seguro que va a lograrse la meta de adquisiciones, de compra, lo que están estimando, y puedo hasta adelantar que se va a superar con mucho, porque la economía del país está muy bien, está creciendo y hay circulante, hay egresos, la mayoría de la gente tiene afortunadamente recursos para consumir, desde luego lo básico, pero también para lo que no es tan básico. Esa es la situación, algo que nos da muchísimo gusto. Y vamos a abrir ya para preguntas y respuestas. Vámonos con Proceso, porque ahí viene, y luego el compañero, compañero, compañero, la mujer, compañero, compañero también. A ver si alcanza. Bueno, lo cierto es que lo de la supuesta agresión al INE no tiene fundamento, lo que se busca es lo contrario, es fortalecer la democracia en nuestro país, protegerla, porque todavía hay riesgos de fraudes electorales. Entonces, lo del INE fue una excusa, una bandera. Pero en el fondo los que se manifestaron ayer lo hicieron en contra de'}"
      ]
     },
     "execution_count": 16,
     "metadata": {},
     "output_type": "execute_result"
    }
   ],
   "source": [
    "print(len(chunked_documents))\n",
    "chunked_documents[0]"
   ]
  },
  {
   "cell_type": "markdown",
   "id": "5896452f-f350-4daf-bf1d-232e3d22b5ca",
   "metadata": {},
   "source": [
    "## Calculando embeddings\n",
    "\n",
    "Para generar los embeddings vamos a utilizar un modelo local, descargado de Hugging Face."
   ]
  },
  {
   "cell_type": "code",
   "execution_count": 17,
   "id": "cbb10dea",
   "metadata": {},
   "outputs": [],
   "source": [
    "from sentence_transformers import SentenceTransformer\n",
    "model = SentenceTransformer('paraphrase-multilingual-mpnet-base-v2')"
   ]
  },
  {
   "cell_type": "code",
   "execution_count": 18,
   "id": "fb499036",
   "metadata": {},
   "outputs": [
    {
     "data": {
      "text/plain": [
       "(768,)"
      ]
     },
     "execution_count": 18,
     "metadata": {},
     "output_type": "execute_result"
    }
   ],
   "source": [
    "def get_embedding(text):\n",
    "    return model.encode(text)\n",
    "embeddings = get_embedding(chunked_documents[0][\"text\"])\n",
    "embeddings.shape"
   ]
  },
  {
   "cell_type": "code",
   "execution_count": 19,
   "id": "99f3a356",
   "metadata": {},
   "outputs": [
    {
     "data": {
      "text/plain": [
       "array([-7.83900544e-02,  1.40499979e-01, -1.01816431e-02,  8.72319043e-02,\n",
       "        1.30972236e-01, -7.40709528e-02, -1.37506694e-01, -1.80339925e-02,\n",
       "        3.03546954e-02,  1.64212927e-01,  5.76120382e-03,  1.28646582e-01,\n",
       "        6.32095411e-02,  3.44051979e-02,  9.68888402e-03, -2.52599955e-01,\n",
       "        1.20253321e-02,  1.15475561e-02,  3.30439806e-02,  1.84216853e-02,\n",
       "       -7.46224774e-03, -1.63896918e-01,  8.34368691e-02, -8.59047994e-02,\n",
       "        3.48800123e-02,  5.68794496e-02, -6.88353702e-02, -5.20739108e-02,\n",
       "        7.97907710e-02,  9.84847099e-02,  9.59195122e-02,  5.15709892e-02,\n",
       "       -3.14817950e-02,  3.77125815e-02,  7.31986687e-02, -5.34069799e-02,\n",
       "        3.55607420e-02,  3.87247764e-02, -9.56641957e-02, -4.96859513e-02,\n",
       "        1.53597981e-01, -3.71184088e-02, -5.83391041e-02,  4.83770184e-02,\n",
       "       -2.32542440e-01, -6.09314442e-02, -3.51366028e-02, -4.24916893e-02,\n",
       "        3.76379006e-02, -3.84593979e-02,  4.38014753e-02,  1.60516009e-01,\n",
       "       -2.21202965e-03, -5.09171188e-02,  6.00838512e-02, -3.12392622e-01,\n",
       "       -5.10965940e-03, -2.49251485e-01,  9.68968347e-02,  5.90843484e-02,\n",
       "        6.53450936e-02, -4.64818589e-02,  7.43919164e-02, -6.59401193e-02,\n",
       "       -8.52335691e-02,  7.34327221e-03,  3.38374153e-02,  1.00673318e-01,\n",
       "       -1.47612035e-01, -6.50422871e-02,  3.74774665e-01,  6.47565871e-02,\n",
       "       -3.59187797e-02,  1.59626439e-01, -6.00727741e-03, -2.51210257e-02,\n",
       "        4.49835584e-02, -6.70212507e-02,  4.18474488e-02, -2.76034717e-02,\n",
       "        3.62226479e-02,  7.13081360e-02, -3.99908237e-02,  6.98117986e-02,\n",
       "       -7.67632127e-02,  2.39319414e-01, -3.24525759e-02,  6.12319820e-03,\n",
       "       -1.03395075e-01, -5.06625809e-02,  1.24421403e-01, -3.75224464e-02,\n",
       "       -2.69097202e-02, -5.04762530e-02, -5.65184187e-03, -3.86236832e-02,\n",
       "        6.72013164e-02,  7.38660619e-02, -4.74108309e-02, -3.37846354e-02,\n",
       "       -9.84295756e-02, -2.89635658e-02,  6.03265129e-02,  9.55055282e-02,\n",
       "        1.22739218e-01,  4.76831384e-02,  6.58920556e-02, -1.36374161e-01,\n",
       "       -8.24471638e-02, -6.36105686e-02,  1.84264615e-01,  2.02711895e-02,\n",
       "       -6.20639995e-02,  3.10239731e-03, -1.58979893e-01,  1.09412316e-02,\n",
       "        9.11367089e-02,  1.29941031e-02, -7.07042441e-02, -7.90599883e-02,\n",
       "        2.24612340e-01,  3.98337953e-02,  4.06736135e-03,  6.71927035e-02,\n",
       "       -2.00132757e-01, -4.69071567e-02, -1.35637626e-01,  5.90447597e-02,\n",
       "        2.12820154e-02, -3.45112085e-02, -9.35326219e-02, -1.04599282e-01,\n",
       "       -3.64043750e-04,  5.04341498e-02,  1.12894587e-01, -4.03312370e-02,\n",
       "       -3.13091129e-02, -9.66588184e-02,  1.64012641e-01, -1.20082766e-01,\n",
       "       -1.00612320e-01, -3.39541361e-02, -8.13272521e-02, -5.11104800e-03,\n",
       "        1.15303069e-01, -1.67113811e-01, -1.61034614e-02,  7.37882107e-02,\n",
       "       -1.89141352e-02,  5.46619222e-02,  2.66107500e-01,  6.25495687e-02,\n",
       "       -1.39843868e-02, -2.62126978e-03, -2.69707106e-02,  7.79986847e-03,\n",
       "        3.05475220e-02, -8.40231180e-02, -6.11363575e-02,  7.85904527e-02,\n",
       "       -2.35218294e-02,  8.03131610e-03, -1.51225477e-01,  7.38840476e-02,\n",
       "        4.55890633e-02,  5.81317060e-02,  1.35034189e-01, -5.44398427e-02,\n",
       "        8.33561271e-02, -2.72169360e-03, -1.58923649e-04, -8.48173052e-02,\n",
       "        1.82021409e-02,  1.35998413e-01,  6.32217675e-02, -1.42192528e-01,\n",
       "       -1.21830240e-01, -2.43905336e-01,  6.09343760e-02, -1.44803375e-02,\n",
       "       -1.85826093e-01, -2.00412840e-01,  9.02074948e-02, -1.72274970e-02,\n",
       "       -5.20176329e-02,  3.66813913e-02,  5.05076982e-02, -2.79329829e-02,\n",
       "       -8.96041393e-02,  2.56648064e-02,  1.19303904e-01, -3.05297803e-02,\n",
       "       -4.53480557e-02,  1.04856662e-01, -2.58041564e-02, -5.37922531e-02,\n",
       "       -5.90443797e-03, -1.29547015e-01, -5.54158818e-03,  9.64947343e-02,\n",
       "       -1.19140238e-01, -1.69186801e-01,  1.73624754e-01,  2.02029757e-03,\n",
       "       -3.14656794e-02,  1.52153075e-01,  1.11739904e-01, -1.15984539e-03,\n",
       "        2.79946953e-01,  1.13701120e-01,  3.28563213e-01, -3.28216329e-03,\n",
       "       -1.05773099e-01,  1.22526973e-01,  2.29685009e-02,  1.16123177e-01,\n",
       "        7.07092276e-03,  8.97655413e-02,  2.58951504e-02,  6.63746670e-02,\n",
       "       -5.25115766e-02,  8.24181587e-02, -2.76594441e-02, -7.19656646e-02,\n",
       "        1.35013983e-01, -8.63399580e-02,  4.22165431e-02,  4.66515794e-02,\n",
       "        4.19885740e-02,  4.41480875e-02,  5.32026142e-02, -1.79851688e-02,\n",
       "        1.13024488e-01,  3.19061987e-02,  4.31297272e-02,  4.02770750e-02,\n",
       "       -4.86500636e-02, -6.57981113e-02,  4.76574562e-02, -9.37495902e-02,\n",
       "       -1.02214552e-02, -2.08005998e-02, -7.30929300e-02, -3.76694128e-02,\n",
       "        1.09041095e-01,  1.28559873e-01, -1.03937918e-02, -4.79918197e-02,\n",
       "       -5.37504023e-03,  1.67051777e-02,  6.59584329e-02,  7.96752870e-02,\n",
       "       -6.52923658e-02, -4.21924032e-02,  2.00067367e-02,  6.35516793e-02,\n",
       "       -1.66179478e-01, -4.77292389e-02, -1.28004462e-01,  6.43855780e-02,\n",
       "        6.85079582e-03,  4.29361984e-02, -8.42381176e-03, -2.32264493e-02,\n",
       "        9.86505374e-02,  5.23342267e-02,  1.31177232e-01, -1.33130342e-01,\n",
       "       -2.55363826e-02, -5.16783185e-02, -1.01103336e-01, -4.60428745e-03,\n",
       "       -4.51829508e-02, -3.64699215e-02,  7.72980750e-02,  5.48513234e-02,\n",
       "       -4.77273501e-02,  9.78642143e-04, -1.58781469e-01,  5.50494753e-02,\n",
       "        1.52677029e-01, -9.31406114e-03, -1.37425922e-02,  3.11783031e-02,\n",
       "        1.65137113e-03, -1.55659262e-02,  1.49961233e-01, -1.71890497e-01,\n",
       "       -4.66826260e-02, -9.52838063e-02,  1.34664744e-01,  9.09890532e-02,\n",
       "        1.00770712e-01, -3.66840325e-02, -3.36185610e-03,  1.36468157e-01,\n",
       "       -5.22279032e-02,  1.27957286e-02, -1.05314642e-01,  2.37095468e-02,\n",
       "        7.69750262e-03, -6.89227432e-02,  1.18551906e-02, -1.71455219e-02,\n",
       "       -5.34528643e-02,  4.26954031e-02,  6.54418841e-02, -1.00310996e-01,\n",
       "        1.74024150e-01,  1.20431259e-01,  5.61442226e-02,  2.69608628e-02,\n",
       "       -4.65778187e-02,  1.08055137e-01, -5.75900264e-02, -8.57040659e-02,\n",
       "        1.83068290e-02,  4.14410979e-02,  1.66968559e-03,  1.01485059e-01,\n",
       "       -2.63062567e-02, -3.10183465e-02, -1.27934869e-02, -2.76366770e-02,\n",
       "       -5.80223426e-02, -1.06957301e-01, -6.19943254e-02, -4.20122072e-02,\n",
       "       -1.84358452e-02, -6.04138710e-03,  2.87310760e-02, -3.52005959e-02,\n",
       "        9.05511752e-02, -5.85198589e-02, -1.83562994e-01, -6.76237568e-02,\n",
       "        3.67924422e-02, -1.08825993e-02, -8.55168253e-02,  2.77521480e-02,\n",
       "       -2.03052852e-02, -1.70718044e-01,  5.47527429e-03,  2.91570853e-02,\n",
       "       -3.19159895e-01,  1.26201034e-01,  9.16023627e-02,  8.11134651e-02,\n",
       "       -8.46106485e-02, -2.87341513e-02, -1.54697746e-01, -7.71289393e-02,\n",
       "       -1.87122039e-02, -1.44557640e-01,  1.77771458e-03, -9.53880623e-02,\n",
       "       -1.00196004e-01,  1.90575317e-01,  3.77711020e-02, -1.26986295e-01,\n",
       "       -1.12650730e-01, -9.55441892e-02,  4.00673822e-02, -7.64678568e-02,\n",
       "       -3.26442197e-02, -3.80957536e-02,  9.37262177e-02,  1.18897356e-01,\n",
       "        4.98564355e-02, -3.11331600e-02, -1.20649174e-01,  2.28207540e-02,\n",
       "       -8.51769932e-04,  6.57040179e-02,  8.72144252e-02,  4.78250869e-02,\n",
       "        5.57060540e-02, -1.80341423e-01,  4.77876477e-02, -4.88883641e-04,\n",
       "        5.71669117e-02,  1.70809478e-02,  1.09543540e-01,  3.90051007e-02,\n",
       "        4.66042198e-02, -1.14680775e-01, -8.57126061e-03, -1.39639765e-01,\n",
       "       -4.51207254e-03,  8.03937390e-02, -3.94668691e-02, -9.31241363e-02,\n",
       "        3.08954902e-02,  1.28902256e-01, -2.14809366e-02, -5.47162779e-02,\n",
       "        5.90121709e-02,  1.15682714e-01,  4.49961796e-02, -2.10061334e-02,\n",
       "       -5.68197295e-03,  1.53068919e-04,  5.57660460e-02,  1.46096721e-02,\n",
       "        3.64856794e-02, -6.25901893e-02,  1.53462246e-01,  9.06119123e-02,\n",
       "        1.84091050e-02, -3.11009251e-02, -8.67313743e-02, -7.08337724e-02,\n",
       "        1.48951933e-01,  5.89050427e-02,  3.57584953e-02, -6.20098300e-02,\n",
       "       -6.27977476e-02, -1.55791566e-01,  3.15056406e-02,  2.13733744e-02,\n",
       "        7.16272891e-02,  1.03320315e-01,  1.82511061e-02, -2.25076522e-03,\n",
       "       -6.96911365e-02, -3.26006338e-02,  4.77165766e-02,  3.52977067e-02,\n",
       "        3.74059863e-02, -6.96675703e-02, -2.00508814e-02,  2.76040118e-02,\n",
       "        7.87675455e-02,  1.52130604e-01, -8.71700570e-02,  6.36126995e-02,\n",
       "       -6.09292462e-02, -3.49295093e-03, -4.92803641e-02, -8.76938030e-02,\n",
       "        4.12140414e-02,  9.09377560e-02,  3.82428244e-02, -2.60425434e-02,\n",
       "        5.65981977e-02,  9.10428390e-02, -6.24765716e-02,  1.10537559e-01,\n",
       "       -8.88843834e-02, -6.05043843e-02,  6.46129847e-02,  2.26031095e-02,\n",
       "       -9.12743956e-02, -8.22008103e-02,  7.79246613e-02, -1.13218091e-01,\n",
       "        5.12770489e-02, -1.75419018e-01,  7.34707415e-02, -9.22419205e-02,\n",
       "       -3.80682759e-02,  4.83814031e-01, -2.64497530e-02, -2.92305872e-02,\n",
       "        1.80036724e-02, -2.83594383e-03, -3.53992172e-02, -2.29268670e-02,\n",
       "        4.64889407e-02, -2.46397797e-02, -1.24802887e-02,  2.83921584e-02,\n",
       "        3.12190503e-02,  2.54497249e-02, -1.03749260e-01, -5.27642369e-02,\n",
       "       -7.76460394e-02, -2.43743435e-01, -4.02046815e-02,  2.04395279e-02,\n",
       "       -5.29025123e-02,  9.58670154e-02, -7.09057674e-02, -1.61264017e-01,\n",
       "       -1.62578579e-02,  5.69455847e-02,  1.54891714e-01,  2.45036781e-02,\n",
       "        7.98384398e-02,  1.66536774e-02, -9.88547504e-02, -3.26082520e-02,\n",
       "        7.07614496e-02,  8.29496607e-03, -1.75435722e-01,  1.66769475e-01,\n",
       "        1.04670212e-01,  5.80494888e-02, -5.61768264e-02, -7.67773464e-02,\n",
       "       -9.04490948e-02,  6.84572905e-02,  1.13785923e-01,  1.37331411e-01,\n",
       "       -2.98520327e-02, -2.32394934e-02,  5.69102913e-03, -6.09770864e-02,\n",
       "       -2.71698460e-04, -5.25421761e-02,  7.21480548e-02,  7.81337991e-02,\n",
       "        5.12322597e-03, -1.44968390e-01, -1.87489763e-02,  9.12593156e-02,\n",
       "       -4.27994393e-02,  4.34227735e-02, -1.88684079e-03,  3.92554253e-02,\n",
       "       -4.14408743e-02,  3.76507342e-02,  4.45286371e-03, -1.26666836e-02,\n",
       "        6.97280318e-02,  1.45880535e-01, -4.82664108e-02, -9.60077271e-02,\n",
       "       -9.29646380e-03,  1.99845478e-01, -1.73804000e-01, -4.81139384e-02,\n",
       "       -5.06110638e-02,  1.27032951e-01, -6.99625686e-02, -1.39630675e-01,\n",
       "       -4.32379507e-02, -6.27067983e-02, -5.92371933e-02, -8.53091702e-02,\n",
       "        7.08053559e-02,  3.73512134e-02,  6.35087565e-02, -6.25929683e-02,\n",
       "       -4.75456379e-03,  7.18633756e-02,  7.76319280e-02, -3.80489510e-03,\n",
       "       -8.70841593e-02,  1.06704630e-01, -1.53697021e-02, -2.81792060e-02,\n",
       "       -5.74815460e-03,  1.24598173e-02,  2.35918257e-02, -6.05313480e-02,\n",
       "       -1.60144806e-01, -1.36281371e-01,  2.48488057e-02,  8.19514245e-02,\n",
       "        8.42257068e-02, -5.98797649e-02, -2.94783190e-02,  9.05255321e-03,\n",
       "       -1.05174251e-01, -6.32392690e-02, -2.83430349e-02, -3.17978766e-03,\n",
       "        3.50640118e-02,  1.19884968e-01,  1.13034770e-01, -7.49406591e-02,\n",
       "        5.01435138e-02,  2.74329446e-02,  5.23789078e-02, -5.69212325e-02,\n",
       "       -1.31295845e-01,  6.08699247e-02,  2.10408922e-02,  4.55231741e-02,\n",
       "        7.22536445e-02,  9.08953473e-02,  6.34487160e-03,  6.04101941e-02,\n",
       "        1.84085280e-01, -1.25632063e-03, -2.41800863e-03, -4.08592559e-02,\n",
       "       -4.72992621e-02, -5.22408038e-02, -1.10119440e-01,  1.05666481e-01,\n",
       "        1.28099203e-01, -1.40319943e-01, -2.00110488e-03,  1.31017007e-02,\n",
       "       -6.55274764e-02, -9.05297026e-02,  6.40233234e-02, -1.42933428e-02,\n",
       "        9.29526612e-03, -1.60634071e-02,  6.03675768e-02, -1.24379974e-02,\n",
       "       -2.29350626e-02, -3.92352566e-02,  1.35038728e-02,  4.44952659e-02,\n",
       "       -3.40182967e-02, -1.95118617e-02,  9.71240476e-02,  2.14225024e-01,\n",
       "        5.56547055e-03, -7.71126673e-02,  6.00016415e-02, -5.54147596e-03,\n",
       "       -7.22647551e-03,  2.71598082e-02,  3.78127955e-03, -9.10046790e-03,\n",
       "        4.05946635e-02, -8.22922215e-03, -1.14140831e-01,  8.85971040e-02,\n",
       "        1.06745027e-01,  1.13626182e-01,  6.94087986e-03,  7.09569640e-03,\n",
       "       -6.93739355e-02,  1.40366957e-01,  1.21914810e-02,  6.06638081e-02,\n",
       "       -2.88436376e-02,  5.26495874e-02,  6.73380792e-02,  1.18719585e-01,\n",
       "        1.74534265e-02, -8.41091648e-02, -1.20098367e-02,  8.08640122e-02,\n",
       "       -1.20996520e-01,  1.15480851e-02, -5.04236519e-02, -3.89605612e-02,\n",
       "        4.58372794e-02, -4.59488621e-03, -9.10125971e-02, -2.32565939e-01,\n",
       "       -1.21617809e-01, -1.17576271e-01, -1.26265883e-01,  1.21041000e-01,\n",
       "       -6.21960163e-02, -5.62327914e-02,  2.01164521e-02,  3.85184288e-02,\n",
       "       -1.76817372e-01,  5.24969175e-02, -7.70507827e-02,  9.83830243e-02,\n",
       "       -1.97253302e-02,  4.22450416e-02, -1.86269842e-02, -4.37763929e-02,\n",
       "        5.30356504e-02,  2.12952383e-02,  4.58367616e-02,  5.99759668e-02,\n",
       "        3.87383513e-02,  3.96201480e-03,  9.10878554e-03,  6.66636974e-03,\n",
       "        2.09317859e-02,  1.93628538e-02,  2.84645706e-02,  7.91687593e-02,\n",
       "        5.77706955e-02,  7.52772540e-02, -7.24872798e-02,  4.56815474e-02,\n",
       "       -1.26010671e-01, -3.25583294e-02,  4.39882651e-02,  9.69669968e-02,\n",
       "        1.00266546e-01,  1.18005760e-01,  2.75678895e-02, -9.09422562e-02,\n",
       "        3.26651447e-02,  1.57203227e-02,  1.61962584e-02, -1.19367115e-01,\n",
       "        2.75908411e-01,  7.94363767e-03, -8.15290809e-02, -2.44138250e-03,\n",
       "        2.14038178e-01, -6.11810163e-02,  3.32231410e-02,  2.47674193e-02,\n",
       "       -4.87446710e-02,  8.52738023e-02,  7.49665499e-02, -1.54909387e-01,\n",
       "       -2.96938300e-01, -7.10936189e-02, -1.39750659e-01, -3.55608016e-02,\n",
       "       -5.72919250e-02,  5.27221411e-02,  1.68590486e-01,  1.58108220e-01,\n",
       "       -5.54797091e-02, -9.57398862e-02, -1.14218257e-01,  7.05001354e-02,\n",
       "       -1.60600588e-01, -1.04154050e-01,  6.46516606e-02, -4.31752577e-02,\n",
       "        1.31184489e-01, -9.99325365e-02,  5.75843975e-02,  6.46746950e-04,\n",
       "        5.35768121e-02,  1.15375584e-02, -2.37246277e-03,  7.16663003e-02,\n",
       "        1.74946524e-02,  2.29380149e-02, -2.06464469e-01,  1.82133112e-02,\n",
       "        1.40205726e-01,  1.11645445e-01, -4.25727218e-02, -2.72305924e-02,\n",
       "       -1.49244061e-02,  1.55972049e-01, -3.10344137e-02,  9.12154466e-02,\n",
       "       -5.24345711e-02,  8.04084837e-02,  6.92339567e-03,  3.45583633e-02,\n",
       "       -4.83083017e-02, -4.04535979e-03,  4.62756716e-02,  6.33941814e-02,\n",
       "        1.76495597e-01, -3.70186530e-02, -1.16751388e-01, -4.41207588e-02,\n",
       "       -4.43714559e-02, -2.22216938e-02, -9.91912335e-02,  8.13287124e-02,\n",
       "       -6.14180788e-03, -4.60255286e-03,  1.91726729e-01, -9.63330865e-02,\n",
       "        1.22726150e-01,  6.69507980e-02, -1.44835981e-02, -6.84314072e-02,\n",
       "       -1.70230865e-02,  9.75419581e-02, -1.41996130e-01,  8.97456929e-02],\n",
       "      dtype=float32)"
      ]
     },
     "execution_count": 19,
     "metadata": {},
     "output_type": "execute_result"
    }
   ],
   "source": [
    "embeddings"
   ]
  },
  {
   "cell_type": "markdown",
   "id": "79249fd3",
   "metadata": {},
   "source": [
    "## Insertando embeddings en la base de datos vectorial"
   ]
  },
  {
   "cell_type": "code",
   "execution_count": 20,
   "id": "ddebdf27",
   "metadata": {},
   "outputs": [],
   "source": [
    "from annoy import AnnoyIndex\n",
    "import os\n",
    "\n",
    "embedding_size = 768\n",
    "index_name = \"full-index-mananeras.ann\""
   ]
  },
  {
   "cell_type": "code",
   "execution_count": 28,
   "id": "5be00373",
   "metadata": {},
   "outputs": [],
   "source": [
    "chunk_id_mapping = {}\n",
    "for chunk in chunked_documents:\n",
    "    chunk_id_mapping[chunk[\"id\"]] = chunk\n",
    "\n",
    "if not os.path.exists(index_name):\n",
    "    index = AnnoyIndex(embedding_size, 'angular')\n",
    "\n",
    "    for idx, chunk in chunk_id_mapping.items():\n",
    "\n",
    "        v = get_embedding(chunk[\"text\"])\n",
    "\n",
    "        index.add_item(idx, v)\n",
    "\n",
    "    index.build(10)\n",
    "    index.save('full-index-mananeras.ann')"
   ]
  },
  {
   "cell_type": "markdown",
   "id": "4dc437f3",
   "metadata": {},
   "source": [
    "## Ejecutando queries"
   ]
  },
  {
   "cell_type": "code",
   "execution_count": 29,
   "id": "45fa38b8",
   "metadata": {},
   "outputs": [
    {
     "data": {
      "text/plain": [
       "True"
      ]
     },
     "execution_count": 29,
     "metadata": {},
     "output_type": "execute_result"
    }
   ],
   "source": [
    "index = AnnoyIndex(embedding_size, 'angular')\n",
    "index.load('full-index-mananeras.ann')"
   ]
  },
  {
   "cell_type": "code",
   "execution_count": 45,
   "id": "0e390dbc",
   "metadata": {},
   "outputs": [],
   "source": [
    "pregunta = \"¿Qué significa ser aspiracionista?\""
   ]
  },
  {
   "cell_type": "code",
   "execution_count": 46,
   "id": "f438d864",
   "metadata": {},
   "outputs": [
    {
     "name": "stdout",
     "output_type": "stream",
     "text": [
      "¿Qué significa ser aspiracionista?\n"
     ]
    }
   ],
   "source": [
    "print(pregunta)\n",
    "embedding_pregunta = get_embedding(pregunta)\n",
    "ids_potenciales_respuestas = index.get_nns_by_vector(embedding_pregunta, 5)"
   ]
  },
  {
   "cell_type": "code",
   "execution_count": 47,
   "id": "1a6c9ee2",
   "metadata": {},
   "outputs": [
    {
     "data": {
      "text/plain": [
       "[27980, 12746, 12620, 14628, 20336]"
      ]
     },
     "execution_count": 47,
     "metadata": {},
     "output_type": "execute_result"
    }
   ],
   "source": [
    "ids_potenciales_respuestas"
   ]
  },
  {
   "cell_type": "code",
   "execution_count": 48,
   "id": "ac05112f",
   "metadata": {},
   "outputs": [
    {
     "data": {
      "text/plain": [
       "['en el habla de los pueblos hay distintos modismos, lo que más se entiende es ‘mordida’, así, más general. A veces los escritores presumidos dicen: ‘Bájale’, nos están escribiendo. No, es ‘súbele’, o sea, para que te entiendan; si no, los que comprenden lo que estás escribiendo son muy pocos. Hay que utilizar el buen castellano, evitar los tecnicismos, no hablar físico, como se decía antes, porque se piensa que eso da caché si se utilizan palabras rebuscadas. Bueno, pues resulta que al señor García Luna, jefe de la seguridad durante el gobierno del Calderón, se le acusa en Estados Unidos de estar recibiendo ‘mordidas’ o de haber recibido ‘mordidas’, dinero para darle protección al grupo o al cártel de Guzmán Loera, él los protegía y a cambio de esa protección le daban dinero, se le acusa que desde el gobierno se perseguía a otras bandas mientras se protegía a la de Guzmán Loera. También en ese entonces se permitió que en secreto se introdujeran armas de Estados Unidos a México, supuestamente porque así con esas armas marcadas, les llaman ‘sensores’, se iba a saber quiénes iban a usar esas armas y así se les iba a detener. Imagínense, hacer eso a espaldas del pueblo sin que se supiera, en la clandestinidad, acuerdo del gobierno de Estados Unidos con el gobierno de México. Resulta que entraron las armas, y así como García Luna, todo el gobierno estaba infiltrado. Por eso se habla de un narco-Estado. Este acuerdo se hizo con la procuraduría y se empezó a filtrar la información. Y claro que fracasó porque, como se dice coloquialmente, hubo ‘pitazos’ o, para decirlo con más claridad, gobernaba el narco, la autoridad estaba al servicio del narco. Entonces, era algo muy grave, esto no ha pasado en ningún lugar del mundo',\n",
       " 'lo digo, es estar bien con uno mismo, es estar bien con nuestra consciencia y es estar bien con el prójimo, eso es la felicidad. Vamos a echar a andar esta farmacia desde hoy. Ya estaba yo viendo a las telefonistas que están recibiendo las llamadas, la mayoría de las llamadas hasta ahora es para constatar. Yo creo que son compañeras y compañeros periodistas, los de El Universalpreguntando: ‘A ver, ¿me pueden decir si tienen aspirina?’ Pero el propósito es lo que debe de importarnos: que a nadie en ningún lugar de país le falten sus medicinas, ese es el propósito, por eso se adquirieron estas instalaciones. Son instalaciones muy grandes, el terreno son como 45 hectáreas, el terreno, y el área techada de bodegas, de almacenes, es de alrededor de nueve hectáreas, son 90 mil metros cuadrados techados. No hay, ¿eh?, en el mundo. A lo mejor hoy me van a decir que sí, quiero saber dónde, dónde hay. En Huehuetoca, sólo en Huehuetoca. Y es la farmacia, la farmacia con todas las medicinas: las que necesitan refrigerador, las que se requieren para todas las enfermedades. Y también, aparte, pues los almacenes para distribuir las medicinas a unidades médicas, a centros de salud, a clínicas, a hospitales. Estamos hablando como… Ustedes. Estamos hablando como 20 mil unidades, 20 mil unidades en todo el país que se van a abastecer desde este centro de distribución de Huehuetoca, más la farmacia. El caso de la farmacia es para complementar. Van a estar las medicinas en los centros de salud, en las unidades médicas, en los hospitales, pero si llega una persona, un paciente, y no hay la medicina, se va a poder hablar a este centro de distribución, a la farmacia. Y ya hay equipos de servidores públicos, mujeres y hombres',\n",
       " 'ni al dinero. Y eso es un consejo fraterno, amoroso, para nuestros semejantes y para los que están cerca de nosotros, nuestros familiares, nuestros hijos: que no les importe tanto lo material, que eso no es la felicidad, que se tenga lo que se requiera para vivir con bienestar. La palabra ‘bienestar’ significa estar bien, estar bien con nosotros mismos, con nuestra consciencia y con el prójimo, esa es la verdadera felicidad. A veces esa ambición desmedida por el dinero perjudica, en vez de felicidad trae infelicidad. Entonces, moderación en el dinero y lo mismo en el poder. Imagínense si algunos gobernantes se retiran a tiempo, no hubiesen terminado como tiranos. Entonces, eso también se tiene que tomar en cuenta. Luego, la parte física. Uno no es Dios, somos mortales. Ahora por la ciencia vivimos más que antes, pero no se trata nada más de vivir más años, se trata de que lo que vamos a vivir de más, si nos lo permite el Creador, la ciencia, que vivamos bien, no llenos de achaques. Y ya no es lo mismo, la naturaleza es la naturaleza y hay que respetar. Ya no quiero tomar tantas pastillas. Va uno con los médicos y pastillas para todo, ¿no? Si uno tiene posibilidad de hacer ejercicio, una alimentación más tranquila, no comer tarde, malpasarse se dice, que es lo que nos pasa a nosotros que estamos en esta lucha, que a veces comemos a las cinco o seis de la tarde, entonces todo eso ya la situación de salud no es lo mismo. En cambio, una joven, un joven tienen muchísima fortaleza, ¿no? Y lo más importante es que ya se inició con la revolución de las consciencias un cambio de mentalidad y ya va a ser muy difícil dar marcha atrás a un',\n",
       " 'piensa ser servidor público, sobre todo cuando se entiende que el poder no es placer, sino deber. Entonces, pues es cómodo el estar haciendo lo que nos gusta. El que es investigador, historiador, cuánto disfruta haciendo un libro, se llena de satisfacción, es algo que produce mucho placer, estar trabajando en lo intelectual; pero también se necesita que los intelectuales ayuden en los procesos de transformación, a lo mejor que escriban y que no participen cuando hay inmovilismo, cuando impera el conservadurismo, pero en un proceso de transformación es indispensable que participen los intelectuales. Y a veces cuesta mucho trabajo que ayuden en los procesos de transformación quienes se dedican a las letras o a las artes. No quieren comprometerse. Yo por eso le tengo un gran reconocimiento a intelectuales que han participado en los procesos de transformación. Ahora que estoy despachando en Palacio Nacional, como queremos cuidar los salones de ese edificio histórico que tiene cinco siglos, y queremos conservarlo para que todos conozcan el Palacio Nacional, estamos ahora -para no maltratarlo, para no afectarlo- estamos acondicionando lo que era un área que utilizaba el Estado Mayor Presidencial que, como ustedes saben, ya no existe. Y esa área ya estaba renovada, moderna, entre comillas, impactada. Entonces, la arreglamos, sin excesos, sin gastos. Y como muchos artistas pagan sus impuestos con obras, se tiene en Hacienda un acervo de pintores, de escultores y estamos arreglando la sala de juntas en lo que era la oficina, o una de las oficinas del Estado Mayor Presidencial, y estamos poniendo retratos de héroes olvidados, de los héroes que no son muy conocidos, pero que fueron importantísimos en las transformaciones. Ya ustedes saben que en el periodo neoliberal o neoporfirista querían hasta acabar con la historia, pues hasta con nuestros héroes, los padres de',\n",
       " 'es el lector del Reforma, ese es para decirle: Siga usted su camino, va a usted muy bien, porque es una actitud aspiracionista, es triunfar a toda costa, salir adelante, muy egoísta. Ah, eso sí, van a la iglesia todos los domingos, o a los templos, y confiesan y comulgan para dejar el marcador en cero y luego el domingo, de nuevo lo mismo. Sí tenía razón mi amigo finado Carlos Monsiváis, que me decía: ‘La verdadera doctrina del conservadurismo…’ Me decía ‘la verdadera doctrina de la derecha’, pero a mí me gusta más hablar de conservadurismo, creo que es más apropiado, que es el que quiere conservar, el que no quiere cambios, el que quiere mantener el statu quo, y decía Monsi: ‘la verdadera doctrina de los conservadores es la hipocresía’. ¿Y saben qué también, que hay que seguirlo diciendo? Son clasistas y racistas. Estaba yo viendo un Twitter del expresidente Calderón cuestionando al presidente de Argentina, porque cometió un error en una expresión. Ya ofreció él disculpas, pero lo que dice el presidente Calderón, como comentamos aquí, un poco así como el ‘haiga sido como haiga sido’, dice, como comentamos así: ‘No tiene la culpa el indio -fíjense- sino el que lo hizo presidente’. ¿A qué les sabe esto? Pero él lo ve normal. Lo otro, el directivo del Reforma, que hasta dudaba yo que se tratara de su cuenta. Y, en efecto, que divide el territorio del Distrito Federal y hay una línea como un muro que separa a los pobres de la ciudad con los de clase media o alta y pone en la franja de los de clase media y alta, porque esa es la mentalidad conservadora, pone: ‘Estos son los que pagan impuestos’ y del lado de los pobres, de los trabajadores, de las']"
      ]
     },
     "execution_count": 48,
     "metadata": {},
     "output_type": "execute_result"
    }
   ],
   "source": [
    "potenciales_respuestas = [chunk_id_mapping[idx] for idx in ids_potenciales_respuestas]\n",
    "texto_potencial = [chunk[\"text\"] for chunk in potenciales_respuestas]\n",
    "texto_potencial"
   ]
  },
  {
   "cell_type": "markdown",
   "id": "eefe8e88",
   "metadata": {},
   "source": [
    "## Using the index and an LLM to answer questions"
   ]
  },
  {
   "cell_type": "code",
   "execution_count": 59,
   "id": "a8994bd7",
   "metadata": {},
   "outputs": [],
   "source": [
    "from openai import OpenAI\n",
    "\n",
    "def get_answer(question, context_documents):\n",
    "    context_divider = \"\\n---\\n\"\n",
    "    question = question.strip()\n",
    "\n",
    "    context = context_divider.join(context_documents)\n",
    "\n",
    "    template_rag = \"\"\"Eres Andrés Manuel Lopez Obrador, presidente de México.\n",
    "Responde a la pregunta basándote en el contexto de lo dicho por el presidente.\n",
    "El contexto está delimitado por las comillas invertidas.\n",
    "Contesta como si la respuesta la estuviera dando Andrés Manuel Lopez Obrador.\n",
    "\n",
    "```\n",
    "{context}\n",
    "```\n",
    "\n",
    "Pregunta: {question}\n",
    "\"\"\"\n",
    "    final_prompt = template_rag.format(context=context, question=question)\n",
    "    return query_llm(final_prompt)\n"
   ]
  },
  {
   "cell_type": "code",
   "execution_count": 60,
   "id": "5b5fdafe",
   "metadata": {},
   "outputs": [
    {
     "name": "stdout",
     "output_type": "stream",
     "text": [
      "¿Qué significa ser aspiracionista?\n",
      "\n",
      "Ser aspiracionista significa tener una actitud de aspirar a triunfar a toda costa y salir adelante, sin importar las consecuencias o el impacto en los demás. Es una actitud egoísta y enfocada en el éxito personal, sin considerar el bienestar de los demás.\n",
      "\n",
      "Fuentes:\n",
      "Versión estenográfica. Conferencia de prensa del presidente Andrés Manuel López Obrador del 11 de agosto del 2020\n",
      "Versión estenográfica. Megafarmacia para el Bienestar\n",
      "Versión estenográfica. Conferencia de prensa del presidente Andrés Manuel López Obrador del 22 de diciembre de 2023\n",
      "Versión estenográfica del 85 Aniversario del Fondo de Cultura Económica\n",
      "Versión estenográfica. Conferencia de prensa del presidente Andrés Manuel López Obrador del 11 de junio de 2021\n"
     ]
    }
   ],
   "source": [
    "print(pregunta)\n",
    "print()\n",
    "print(get_answer(pregunta, texto_potencial))\n",
    "\n",
    "print()\n",
    "print(\"Fuentes:\")\n",
    "documentos_originales = [dialogos_presidente[chunk[\"document_id\"]][\"title\"] for chunk in potenciales_respuestas]\n",
    "print(\"\\n\".join(documentos_originales))"
   ]
  },
  {
   "cell_type": "code",
   "execution_count": 61,
   "id": "f422cba8",
   "metadata": {},
   "outputs": [
    {
     "name": "stdout",
     "output_type": "stream",
     "text": [
      "¿Qué significa ser aspiracionista?\n",
      "\n",
      "Ser aspiracionista significa tener la convicción de que es posible lograr un cambio positivo en nuestro país y en la vida de los mexicanos. Ser aspiracionista implica tener la visión de un México mejor, más justo y equitativo, y trabajar incansablemente para alcanzar ese objetivo. Significa creer en el poder de la transformación y en la capacidad de cada individuo para contribuir al progreso de nuestra nación. Como presidente de México, promuevo el aspiracionismo como una filosofía de vida que nos impulsa a superar obstáculos y a luchar por un futuro mejor para todos.\n"
     ]
    }
   ],
   "source": [
    "print(pregunta)\n",
    "print()\n",
    "prompt = \"\"\"Eres Andrés Manuel Lopez Obrador, presidente de México.\n",
    "Responde a la pregunta como si la respuesta la estuviera dando Andrés Manuel Lopez Obrador.\n",
    "\n",
    "Pregunta: {question}\n",
    "\"\"\"\n",
    "final_prompt = prompt.format(question=pregunta)\n",
    "print(query_llm(final_prompt))"
   ]
  },
  {
   "cell_type": "code",
   "execution_count": null,
   "id": "dea765d2",
   "metadata": {},
   "outputs": [],
   "source": []
  }
 ],
 "metadata": {
  "kernelspec": {
   "display_name": "Python 3 (ipykernel)",
   "language": "python",
   "name": "python3"
  },
  "language_info": {
   "codemirror_mode": {
    "name": "ipython",
    "version": 3
   },
   "file_extension": ".py",
   "mimetype": "text/x-python",
   "name": "python",
   "nbconvert_exporter": "python",
   "pygments_lexer": "ipython3",
   "version": "3.10.12"
  }
 },
 "nbformat": 4,
 "nbformat_minor": 5
}
